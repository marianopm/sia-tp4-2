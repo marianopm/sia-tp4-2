{
 "cells": [
  {
   "cell_type": "code",
   "execution_count": 36,
   "metadata": {},
   "outputs": [],
   "source": [
    "import numpy as np\n",
    "import pandas as pd\n",
    "import itertools\n",
    "from src.HopfieldModel import *\n",
    "\n",
    "abecedario = {\n",
    "    0: 'A',\n",
    "    1: 'B',\n",
    "    2: 'C',\n",
    "    3: 'D',\n",
    "    4: 'E',\n",
    "    5: 'F',\n",
    "    6: 'G',\n",
    "    7: 'H',\n",
    "    8: 'I',\n",
    "    9: 'J',\n",
    "    10: 'K',\n",
    "    11: 'L',\n",
    "    12: 'M',\n",
    "    13: 'N',\n",
    "    14: 'O',\n",
    "    15: 'P',\n",
    "    16: 'Q',\n",
    "    17: 'R',\n",
    "    18: 'S',\n",
    "    19: 'T',\n",
    "    20: 'U',\n",
    "    21: 'V',\n",
    "    22: 'W',\n",
    "    23: 'X',\n",
    "    24: 'Y',\n",
    "    25: 'Z',\n",
    "}\n",
    "letras = get_patterns(\"data/letters.txt\")\n",
    "\n",
    "# Generar todas las combinaciones de 4 vectores de 26\n",
    "combinaciones = list(itertools.combinations(range(26), 4))\n",
    "\n",
    "# Calcular la ortogonalidad para cada combinación\n",
    "resultados = []\n",
    "for comb in combinaciones:\n",
    "    sub_vectores = np.array([letras[comb[0]],letras[comb[1]],letras[comb[2]],letras[comb[3]]])\n",
    "    mean_dot_product, max_value, max_dot_product = ortogonality4(sub_vectores)\n",
    "    combinacion = [abecedario[i] for i in comb]\n",
    "    resultados.append((combinacion, mean_dot_product, max_value, max_dot_product))\n",
    "\n",
    "resultados = pd.DataFrame(resultados, columns=['Combinación', 'Medio', 'Máx', 'Frec'])\n"
   ]
  },
  {
   "cell_type": "code",
   "execution_count": 37,
   "metadata": {},
   "outputs": [
    {
     "data": {
      "text/html": [
       "<div>\n",
       "<style scoped>\n",
       "    .dataframe tbody tr th:only-of-type {\n",
       "        vertical-align: middle;\n",
       "    }\n",
       "\n",
       "    .dataframe tbody tr th {\n",
       "        vertical-align: top;\n",
       "    }\n",
       "\n",
       "    .dataframe thead th {\n",
       "        text-align: right;\n",
       "    }\n",
       "</style>\n",
       "<table border=\"1\" class=\"dataframe\">\n",
       "  <thead>\n",
       "    <tr style=\"text-align: right;\">\n",
       "      <th></th>\n",
       "      <th>Combinación</th>\n",
       "      <th>Medio</th>\n",
       "      <th>Máx</th>\n",
       "      <th>Frec</th>\n",
       "    </tr>\n",
       "  </thead>\n",
       "  <tbody>\n",
       "    <tr>\n",
       "      <th>11534</th>\n",
       "      <td>[H, M, N, W]</td>\n",
       "      <td>18.333</td>\n",
       "      <td>21</td>\n",
       "      <td>2.0</td>\n",
       "    </tr>\n",
       "    <tr>\n",
       "      <th>2815</th>\n",
       "      <td>[B, E, G, S]</td>\n",
       "      <td>18.000</td>\n",
       "      <td>21</td>\n",
       "      <td>3.0</td>\n",
       "    </tr>\n",
       "    <tr>\n",
       "      <th>1106</th>\n",
       "      <td>[A, F, P, R]</td>\n",
       "      <td>17.667</td>\n",
       "      <td>21</td>\n",
       "      <td>2.0</td>\n",
       "    </tr>\n",
       "    <tr>\n",
       "      <th>7952</th>\n",
       "      <td>[E, G, Q, S]</td>\n",
       "      <td>17.667</td>\n",
       "      <td>21</td>\n",
       "      <td>3.0</td>\n",
       "    </tr>\n",
       "    <tr>\n",
       "      <th>7771</th>\n",
       "      <td>[E, F, P, R]</td>\n",
       "      <td>17.333</td>\n",
       "      <td>21</td>\n",
       "      <td>2.0</td>\n",
       "    </tr>\n",
       "  </tbody>\n",
       "</table>\n",
       "</div>"
      ],
      "text/plain": [
       "        Combinación   Medio  Máx  Frec\n",
       "11534  [H, M, N, W]  18.333   21   2.0\n",
       "2815   [B, E, G, S]  18.000   21   3.0\n",
       "1106   [A, F, P, R]  17.667   21   2.0\n",
       "7952   [E, G, Q, S]  17.667   21   3.0\n",
       "7771   [E, F, P, R]  17.333   21   2.0"
      ]
     },
     "execution_count": 37,
     "metadata": {},
     "output_type": "execute_result"
    }
   ],
   "source": [
    "resultados = resultados.sort_values(by=['Máx','Medio'], ascending=False)\n",
    "resultados.head(5)"
   ]
  },
  {
   "cell_type": "code",
   "execution_count": 38,
   "metadata": {},
   "outputs": [
    {
     "data": {
      "text/html": [
       "<div>\n",
       "<style scoped>\n",
       "    .dataframe tbody tr th:only-of-type {\n",
       "        vertical-align: middle;\n",
       "    }\n",
       "\n",
       "    .dataframe tbody tr th {\n",
       "        vertical-align: top;\n",
       "    }\n",
       "\n",
       "    .dataframe thead th {\n",
       "        text-align: right;\n",
       "    }\n",
       "</style>\n",
       "<table border=\"1\" class=\"dataframe\">\n",
       "  <thead>\n",
       "    <tr style=\"text-align: right;\">\n",
       "      <th></th>\n",
       "      <th>Combinación</th>\n",
       "      <th>Medio</th>\n",
       "      <th>Máx</th>\n",
       "      <th>Frec</th>\n",
       "    </tr>\n",
       "  </thead>\n",
       "  <tbody>\n",
       "    <tr>\n",
       "      <th>9763</th>\n",
       "      <td>[F, M, O, Z]</td>\n",
       "      <td>2.000</td>\n",
       "      <td>3</td>\n",
       "      <td>3.0</td>\n",
       "    </tr>\n",
       "    <tr>\n",
       "      <th>9936</th>\n",
       "      <td>[F, O, W, Z]</td>\n",
       "      <td>2.000</td>\n",
       "      <td>3</td>\n",
       "      <td>3.0</td>\n",
       "    </tr>\n",
       "    <tr>\n",
       "      <th>13809</th>\n",
       "      <td>[L, P, T, V]</td>\n",
       "      <td>2.000</td>\n",
       "      <td>3</td>\n",
       "      <td>3.0</td>\n",
       "    </tr>\n",
       "    <tr>\n",
       "      <th>13873</th>\n",
       "      <td>[L, R, T, V]</td>\n",
       "      <td>1.667</td>\n",
       "      <td>3</td>\n",
       "      <td>2.0</td>\n",
       "    </tr>\n",
       "    <tr>\n",
       "      <th>13875</th>\n",
       "      <td>[L, R, T, X]</td>\n",
       "      <td>1.333</td>\n",
       "      <td>3</td>\n",
       "      <td>1.0</td>\n",
       "    </tr>\n",
       "  </tbody>\n",
       "</table>\n",
       "</div>"
      ],
      "text/plain": [
       "        Combinación  Medio  Máx  Frec\n",
       "9763   [F, M, O, Z]  2.000    3   3.0\n",
       "9936   [F, O, W, Z]  2.000    3   3.0\n",
       "13809  [L, P, T, V]  2.000    3   3.0\n",
       "13873  [L, R, T, V]  1.667    3   2.0\n",
       "13875  [L, R, T, X]  1.333    3   1.0"
      ]
     },
     "execution_count": 38,
     "metadata": {},
     "output_type": "execute_result"
    }
   ],
   "source": [
    "resultados.tail(5)"
   ]
  },
  {
   "cell_type": "code",
   "execution_count": 42,
   "metadata": {},
   "outputs": [
    {
     "data": {
      "image/png": "[encoded data removed]",
      "text/plain": [
       "<Figure size 200x200 with 4 Axes>"
      ]
     },
     "metadata": {},
     "output_type": "display_data"
    },
    {
     "data": {
      "image/png": "[encoded data removed]",
      "text/plain": [
       "<Figure size 200x200 with 1 Axes>"
      ]
     },
     "metadata": {},
     "output_type": "display_data"
    },
    {
     "data": {
      "image/png": "[encoded data removed]",
      "text/plain": [
       "<Figure size 200x200 with 1 Axes>"
      ]
     },
     "metadata": {},
     "output_type": "display_data"
    },
    {
     "data": {
      "image/png": "[encoded data removed]",
      "text/plain": [
       "<Figure size 200x200 with 5 Axes>"
      ]
     },
     "metadata": {},
     "output_type": "display_data"
    },
    {
     "data": {
      "image/png": "[encoded data removed]",
      "text/plain": [
       "<Figure size 640x480 with 1 Axes>"
      ]
     },
     "metadata": {},
     "output_type": "display_data"
    }
   ],
   "source": [
    "from src.HopfieldModel import *\n",
    "\n",
    "letras = get_patterns(\"data/letters.txt\")\n",
    "#plot_patterns(letras, \"Patrones\")\n",
    "\n",
    "EPOCHS = 100\n",
    "MUTATE_PROB = 0.2\n",
    "\n",
    "letters_to_train = [letras[11], letras[17], letras[19], letras[23]]\n",
    "letters_to_train = np.array(letters_to_train)\n",
    "mean_dot_product, max_value, max_dot_product = ortogonality4(letters_to_train) \n",
    "plot_patterns(letters_to_train, f\"Patrones almacenados con ortogonalidad: {mean_dot_product} (max={max_value} | count={max_dot_product})\")\n",
    "\n",
    "hopfield = Hopfield(letters_to_train, EPOCHS)\n",
    "\n",
    "random_idx = np.random.randint(len(letters_to_train))\n",
    "letter_to_mutate = letters_to_train[random_idx]\n",
    "plot_patterns(letter_to_mutate.reshape((1, len(letter_to_mutate))), f\"Patron a mutar con probabilidad {MUTATE_PROB}\")\n",
    "\n",
    "letter_mutated = mutate(letter_to_mutate, MUTATE_PROB)\n",
    "plot_patterns(letter_mutated.reshape((1, len(letter_mutated))), f\"Patron a mutado\")\n",
    "\n",
    "#PREDICIENDO\n",
    "arr_patterns, arr_energy = hopfield.predict(letter_mutated)\n",
    "\n",
    "#print(arr_patterns)\n",
    "#print(arr_energy)\n",
    "plot_patterns(arr_patterns, \"Prediccion de Hopfield\")\n",
    "plot_energy(arr_energy)\n",
    "\n",
    "\n"
   ]
  }
 ],
 "metadata": {
  "kernelspec": {
   "display_name": "Python 3",
   "language": "python",
   "name": "python3"
  },
  "language_info": {
   "codemirror_mode": {
    "name": "ipython",
    "version": 3
   },
   "file_extension": ".py",
   "mimetype": "text/x-python",
   "name": "python",
   "nbconvert_exporter": "python",
   "pygments_lexer": "ipython3",
   "version": "3.12.2"
  }
 },
 "nbformat": 4,
 "nbformat_minor": 2
}
